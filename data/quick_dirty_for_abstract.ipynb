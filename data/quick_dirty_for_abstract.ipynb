{
 "cells": [
  {
   "cell_type": "code",
   "execution_count": 31,
   "metadata": {},
   "outputs": [],
   "source": [
    "import pandas as pd"
   ]
  },
  {
   "cell_type": "code",
   "execution_count": 32,
   "metadata": {},
   "outputs": [],
   "source": [
    "condition_file = '/home/vera/Documents/Arbeit/CRS/PsychNER/model/experiments/pubmedbert_condition_20240912/checkpoint-792_psychedelic_study_relevant_predictions.csv'\n",
    "substance_file = '/home/vera/Documents/Arbeit/CRS/PsychNER/model/experiments/pubmedbert_substances_20240902/checkpoint-440_psychedelic_study_relevant_predictions.csv'\n",
    "\n",
    "cond_label_map = {\n",
    "        \"0\": \"Psychiatric condition\",\n",
    "        \"1\": \"Depression\",\n",
    "        \"2\": \"Anxiety\",\n",
    "        \"3\": \"Post-traumatic stress disorder (PTSD)\",\n",
    "        \"4\": \"Alcoholism\",\n",
    "        \"5\": \"Other addictions (e.g. smoking)\",\n",
    "        \"6\": \"Anorexia\",\n",
    "        \"7\": \"Alzheimer’s disease\",\n",
    "        \"8\": \"Non-Alzheimer dementia\",\n",
    "        \"9\": \"Substance abuse\",\n",
    "        \"10\": \"(Chronic) Pain\",\n",
    "        \"11\": \"Palliative Setting\",\n",
    "        \"12\": \"Recreational Drug Use\",\n",
    "        \"13\": \"Healthy Participants\"\n",
    "}\n",
    "\n",
    "subs_label_map = {\n",
    "        \"0\": \"Ketamine\",\n",
    "        \"1\": \"S-Ketamine\",\n",
    "        \"2\": \"R-Ketamine\",\n",
    "        \"3\": \"MDMA\",\n",
    "        \"4\": \"LSD\",\n",
    "        \"5\": \"Psilocybin\",\n",
    "        \"6\": \"Psychedelic mushrooms\",\n",
    "        \"7\": \"Ayahuasca\",\n",
    "        \"8\": \"DMT\",\n",
    "        \"9\": \"5-MeO-DMT\",\n",
    "        \"10\": \"Mescaline\",\n",
    "        \"11\": \"Ibogaine\",\n",
    "        \"12\": \"Salvinorin A\",\n",
    "        \"13\": \"Combination Therapy\",\n",
    "        \"14\": \"Analogue\",\n",
    "        \"15\": \"Unknown\"\n",
    "    }\n",
    "\n",
    "threshold = 0.1"
   ]
  },
  {
   "cell_type": "code",
   "execution_count": 33,
   "metadata": {},
   "outputs": [
    {
     "name": "stdout",
     "output_type": "stream",
     "text": [
      "9645\n",
      "included\n",
      "NaN    3939\n",
      "1.0    3336\n",
      "0.0    2370\n",
      "Name: count, dtype: int64\n"
     ]
    }
   ],
   "source": [
    "file = '/home/vera/Documents/Arbeit/CRS/PsychNER/data/raw_data/asreview_dataset_all_Psychedelic Study.csv'\n",
    "df = pd.read_csv(file)\n",
    "print(len(df))\n",
    "# get distribution of included column, including nan\n",
    "print(df['included'].value_counts(dropna=False))"
   ]
  },
  {
   "cell_type": "code",
   "execution_count": 34,
   "metadata": {},
   "outputs": [
    {
     "name": "stdout",
     "output_type": "stream",
     "text": [
      "     id                                               text  \\\n",
      "0  6152  Ketamine Versus Midazolam for Recurrence of Su...   \n",
      "1  8321  Acute effects of MDMA and LSD co-administratio...   \n",
      "2  1264  Trial of Psilocybin versus Escitalopram for De...   \n",
      "3  7738  Acute autonomic and psychotropic effects of LS...   \n",
      "4  3640  Distinct acute effects of LSD, MDMA, and D-amp...   \n",
      "\n",
      "                                   prediction  \\\n",
      "0  [1, 0, 0, 0, 0, 0, 0, 0, 0, 0, 0, 0, 0, 0]   \n",
      "1  [0, 0, 0, 0, 0, 0, 0, 0, 0, 0, 0, 0, 0, 1]   \n",
      "2  [1, 0, 0, 0, 0, 0, 0, 0, 0, 0, 0, 0, 0, 0]   \n",
      "3  [0, 0, 0, 0, 0, 0, 0, 0, 0, 0, 0, 0, 0, 1]   \n",
      "4  [0, 0, 0, 0, 0, 0, 0, 0, 0, 0, 0, 0, 0, 1]   \n",
      "\n",
      "                                         probability label  \n",
      "0  [0.869410514831543, 0.13024155795574188, 6.260...    []  \n",
      "1  [0.00012427952606230974, 4.3928230297751725e-0...    []  \n",
      "2  [0.707538902759552, 0.29201456904411316, 6.750...    []  \n",
      "3  [0.00015922347665764391, 6.170682900119573e-05...    []  \n",
      "4  [0.00013469682016875595, 5.129192504682578e-05...    []  \n",
      "     id                                               text  \\\n",
      "0  6152  Ketamine Versus Midazolam for Recurrence of Su...   \n",
      "1  8321  Acute effects of MDMA and LSD co-administratio...   \n",
      "2  1264  Trial of Psilocybin versus Escitalopram for De...   \n",
      "3  7738  Acute autonomic and psychotropic effects of LS...   \n",
      "4  3640  Distinct acute effects of LSD, MDMA, and D-amp...   \n",
      "\n",
      "                                         prediction  \\\n",
      "0  [1, 0, 0, 0, 0, 0, 0, 0, 0, 0, 0, 0, 0, 0, 0, 0]   \n",
      "1  [0, 0, 0, 1, 0, 0, 0, 0, 0, 0, 0, 0, 0, 0, 0, 0]   \n",
      "2  [0, 0, 0, 0, 0, 1, 0, 0, 0, 0, 0, 0, 0, 0, 0, 0]   \n",
      "3  [0, 0, 0, 0, 1, 0, 0, 0, 0, 0, 0, 0, 0, 0, 0, 0]   \n",
      "4  [0, 0, 0, 1, 0, 0, 0, 0, 0, 0, 0, 0, 0, 0, 0, 0]   \n",
      "\n",
      "                                         probability label  \n",
      "0  [0.9960300326347351, 0.00041070234146900475, 0...    []  \n",
      "1  [0.0028846741188317537, 0.0009480051230639219,...    []  \n",
      "2  [0.00226929085329175, 0.0016175537602975965, 0...    []  \n",
      "3  [0.00543441204354167, 0.002348695881664753, 0....    []  \n",
      "4  [0.003716222709044814, 0.0011896057985723019, ...    []  \n"
     ]
    }
   ],
   "source": [
    "cond_df = pd.read_csv(condition_file)\n",
    "subs_df = pd.read_csv(substance_file)\n",
    "\n",
    "print(cond_df.head())\n",
    "print(subs_df.head())"
   ]
  },
  {
   "cell_type": "markdown",
   "metadata": {},
   "source": [
    "Recalculate the labels with threshold = 0.1"
   ]
  },
  {
   "cell_type": "code",
   "execution_count": 35,
   "metadata": {},
   "outputs": [
    {
     "name": "stdout",
     "output_type": "stream",
     "text": [
      "     id                                               text  \\\n",
      "0  6152  Ketamine Versus Midazolam for Recurrence of Su...   \n",
      "1  8321  Acute effects of MDMA and LSD co-administratio...   \n",
      "2  1264  Trial of Psilocybin versus Escitalopram for De...   \n",
      "3  7738  Acute autonomic and psychotropic effects of LS...   \n",
      "4  3640  Distinct acute effects of LSD, MDMA, and D-amp...   \n",
      "\n",
      "                                   prediction  \\\n",
      "0  [1, 1, 0, 0, 0, 0, 0, 0, 0, 0, 0, 0, 0, 0]   \n",
      "1  [0, 0, 0, 0, 0, 0, 0, 0, 0, 0, 0, 0, 0, 1]   \n",
      "2  [1, 1, 0, 0, 0, 0, 0, 0, 0, 0, 0, 0, 0, 0]   \n",
      "3  [0, 0, 0, 0, 0, 0, 0, 0, 0, 0, 0, 0, 0, 1]   \n",
      "4  [0, 0, 0, 0, 0, 0, 0, 0, 0, 0, 0, 0, 0, 1]   \n",
      "\n",
      "                                         probability label  \n",
      "0  [0.869410514831543, 0.13024155795574188, 6.260...    []  \n",
      "1  [0.00012427952606230974, 4.3928230297751725e-0...    []  \n",
      "2  [0.707538902759552, 0.29201456904411316, 6.750...    []  \n",
      "3  [0.00015922347665764391, 6.170682900119573e-05...    []  \n",
      "4  [0.00013469682016875595, 5.129192504682578e-05...    []  \n",
      "     id                                               text  \\\n",
      "0  6152  Ketamine Versus Midazolam for Recurrence of Su...   \n",
      "1  8321  Acute effects of MDMA and LSD co-administratio...   \n",
      "2  1264  Trial of Psilocybin versus Escitalopram for De...   \n",
      "3  7738  Acute autonomic and psychotropic effects of LS...   \n",
      "4  3640  Distinct acute effects of LSD, MDMA, and D-amp...   \n",
      "\n",
      "                                         prediction  \\\n",
      "0  [1, 0, 0, 0, 0, 0, 0, 0, 0, 0, 0, 0, 0, 0, 0, 0]   \n",
      "1  [0, 0, 0, 1, 1, 0, 0, 0, 0, 0, 0, 0, 0, 0, 0, 0]   \n",
      "2  [0, 0, 0, 0, 0, 1, 0, 0, 0, 0, 0, 0, 0, 0, 0, 0]   \n",
      "3  [0, 0, 0, 0, 1, 0, 0, 0, 0, 0, 0, 0, 0, 0, 0, 0]   \n",
      "4  [0, 0, 0, 1, 1, 0, 0, 0, 0, 0, 0, 0, 0, 0, 0, 0]   \n",
      "\n",
      "                                         probability label  \n",
      "0  [0.9960300326347351, 0.00041070234146900475, 0...    []  \n",
      "1  [0.0028846741188317537, 0.0009480051230639219,...    []  \n",
      "2  [0.00226929085329175, 0.0016175537602975965, 0...    []  \n",
      "3  [0.00543441204354167, 0.002348695881664753, 0....    []  \n",
      "4  [0.003716222709044814, 0.0011896057985723019, ...    []  \n"
     ]
    }
   ],
   "source": [
    "from ast import literal_eval\n",
    "\n",
    "threshold = 0.1\n",
    "\n",
    "def update_predictions(df, threshold):\n",
    "    for i, row in df.iterrows():\n",
    "        probabilities = literal_eval(row['probability'])\n",
    "        new_prediction = [1 if prob >= threshold else 0 for prob in probabilities]\n",
    "        df.at[i, 'prediction'] = str(new_prediction)\n",
    "        \n",
    "update_predictions(cond_df, threshold)\n",
    "update_predictions(subs_df, threshold)\n",
    "print(cond_df.head())\n",
    "print(subs_df.head())        "
   ]
  },
  {
   "cell_type": "code",
   "execution_count": 36,
   "metadata": {},
   "outputs": [
    {
     "name": "stdout",
     "output_type": "stream",
     "text": [
      "3336\n",
      "3336\n",
      "3336\n",
      "Index(['id', 'text_x', 'condition_prediction', 'probability_x', 'label_x',\n",
      "       'text_y', 'substance_prediction', 'probability_y', 'label_y'],\n",
      "      dtype='object')\n"
     ]
    }
   ],
   "source": [
    "# join the two dataframes on id\n",
    "print(len(cond_df))\n",
    "print(len(subs_df))\n",
    "df = pd.merge(cond_df, subs_df, on='id', how='inner')\n",
    "print(len(df))\n",
    "df.rename(columns={'prediction_x': 'condition_prediction', 'prediction_y': 'substance_prediction'}, inplace=True)\n",
    "print(df.columns)"
   ]
  },
  {
   "cell_type": "code",
   "execution_count": 37,
   "metadata": {},
   "outputs": [
    {
     "name": "stdout",
     "output_type": "stream",
     "text": [
      "     id                                             text_x  \\\n",
      "0  6152  Ketamine Versus Midazolam for Recurrence of Su...   \n",
      "1  8321  Acute effects of MDMA and LSD co-administratio...   \n",
      "2  1264  Trial of Psilocybin versus Escitalopram for De...   \n",
      "3  7738  Acute autonomic and psychotropic effects of LS...   \n",
      "4  3640  Distinct acute effects of LSD, MDMA, and D-amp...   \n",
      "\n",
      "                         condition_prediction  \\\n",
      "0  [1, 1, 0, 0, 0, 0, 0, 0, 0, 0, 0, 0, 0, 0]   \n",
      "1  [0, 0, 0, 0, 0, 0, 0, 0, 0, 0, 0, 0, 0, 1]   \n",
      "2  [1, 1, 0, 0, 0, 0, 0, 0, 0, 0, 0, 0, 0, 0]   \n",
      "3  [0, 0, 0, 0, 0, 0, 0, 0, 0, 0, 0, 0, 0, 1]   \n",
      "4  [0, 0, 0, 0, 0, 0, 0, 0, 0, 0, 0, 0, 0, 1]   \n",
      "\n",
      "                                       probability_x label_x  \\\n",
      "0  [0.869410514831543, 0.13024155795574188, 6.260...      []   \n",
      "1  [0.00012427952606230974, 4.3928230297751725e-0...      []   \n",
      "2  [0.707538902759552, 0.29201456904411316, 6.750...      []   \n",
      "3  [0.00015922347665764391, 6.170682900119573e-05...      []   \n",
      "4  [0.00013469682016875595, 5.129192504682578e-05...      []   \n",
      "\n",
      "                                              text_y  \\\n",
      "0  Ketamine Versus Midazolam for Recurrence of Su...   \n",
      "1  Acute effects of MDMA and LSD co-administratio...   \n",
      "2  Trial of Psilocybin versus Escitalopram for De...   \n",
      "3  Acute autonomic and psychotropic effects of LS...   \n",
      "4  Distinct acute effects of LSD, MDMA, and D-amp...   \n",
      "\n",
      "                               substance_prediction  \\\n",
      "0  [1, 0, 0, 0, 0, 0, 0, 0, 0, 0, 0, 0, 0, 0, 0, 0]   \n",
      "1  [0, 0, 0, 1, 1, 0, 0, 0, 0, 0, 0, 0, 0, 0, 0, 0]   \n",
      "2  [0, 0, 0, 0, 0, 1, 0, 0, 0, 0, 0, 0, 0, 0, 0, 0]   \n",
      "3  [0, 0, 0, 0, 1, 0, 0, 0, 0, 0, 0, 0, 0, 0, 0, 0]   \n",
      "4  [0, 0, 0, 1, 1, 0, 0, 0, 0, 0, 0, 0, 0, 0, 0, 0]   \n",
      "\n",
      "                                       probability_y label_y  \\\n",
      "0  [0.9960300326347351, 0.00041070234146900475, 0...      []   \n",
      "1  [0.0028846741188317537, 0.0009480051230639219,...      []   \n",
      "2  [0.00226929085329175, 0.0016175537602975965, 0...      []   \n",
      "3  [0.00543441204354167, 0.002348695881664753, 0....      []   \n",
      "4  [0.003716222709044814, 0.0011896057985723019, ...      []   \n",
      "\n",
      "                             condition     substance  \n",
      "0  [Psychiatric condition, Depression]    [Ketamine]  \n",
      "1               [Healthy Participants]   [MDMA, LSD]  \n",
      "2  [Psychiatric condition, Depression]  [Psilocybin]  \n",
      "3               [Healthy Participants]         [LSD]  \n",
      "4               [Healthy Participants]   [MDMA, LSD]  \n"
     ]
    }
   ],
   "source": [
    "# Get frequency of combination of condition and substance\n",
    "df['condition_prediction'] = df['condition_prediction'].apply(lambda x: literal_eval(x))\n",
    "df['substance_prediction'] = df['substance_prediction'].apply(lambda x: literal_eval(x))\n",
    "df['condition'] = df['condition_prediction'].apply(lambda x: [cond_label_map[str(i)] for i, pred in enumerate(x) if pred == 1])\n",
    "df['substance'] = df['substance_prediction'].apply(lambda x: [subs_label_map[str(i)] for i, pred in enumerate(x) if pred == 1])\n",
    "print(df.head())\n",
    "\n"
   ]
  },
  {
   "cell_type": "code",
   "execution_count": 38,
   "metadata": {},
   "outputs": [
    {
     "name": "stdout",
     "output_type": "stream",
     "text": [
      "               Condition Substance  Count  Percentage\n",
      "0   Healthy Participants      MDMA    970   29.076739\n",
      "1  Psychiatric condition  Ketamine    814   24.400480\n",
      "2             Depression  Ketamine    626   18.764988\n",
      "3  Recreational Drug Use      MDMA    412   12.350120\n",
      "4   Healthy Participants  Ketamine    358   10.731415\n"
     ]
    }
   ],
   "source": [
    "combinations = []\n",
    "\n",
    "for _, row in df.iterrows():\n",
    "    for cond in row['condition']:\n",
    "        for subs in row['substance']:\n",
    "            combinations.append((cond, subs))\n",
    "combinations_df = pd.DataFrame(combinations, columns=['Condition', 'Substance'])\n",
    "            \n",
    "combination_counts = combinations_df.value_counts().reset_index(name='Count')\n",
    "combination_counts['Percentage'] = combination_counts['Count'] / len(df) * 100\n",
    "# sort by count\n",
    "combination_counts.sort_values(by='Count', ascending=False, inplace=True)\n",
    "# print top 5\n",
    "print(combination_counts.head())"
   ]
  }
 ],
 "metadata": {
  "kernelspec": {
   "display_name": "Python 3",
   "language": "python",
   "name": "python3"
  },
  "language_info": {
   "codemirror_mode": {
    "name": "ipython",
    "version": 3
   },
   "file_extension": ".py",
   "mimetype": "text/x-python",
   "name": "python",
   "nbconvert_exporter": "python",
   "pygments_lexer": "ipython3",
   "version": "3.10.12"
  }
 },
 "nbformat": 4,
 "nbformat_minor": 2
}
