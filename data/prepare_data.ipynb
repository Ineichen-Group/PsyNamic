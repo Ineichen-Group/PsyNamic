{
 "cells": [
  {
   "cell_type": "code",
   "execution_count": 4,
   "metadata": {},
   "outputs": [
    {
     "name": "stdout",
     "output_type": "stream",
     "text": [
      "Index(['record_id', 'type_of_reference', 'name_of_database', 'number',\n",
      "       'keywords', 'language', 'notes', 'year', 'start_page', 'short_title',\n",
      "       'secondary_title', 'title', 'url', 'volume', 'id', 'type_of_work',\n",
      "       'issn', 'abstract', 'doi', 'accession_number', 'date',\n",
      "       'database_provider', 'secondary_authors', 'place_published',\n",
      "       'publisher', 'tertiary_title', 'edition', 'custom1', 'alternate_title1',\n",
      "       'author_address', 'authors', 'custom2', 'custom6', 'custom5', 'note',\n",
      "       'custom7', 'original_publication', 'custom3', 'asreview_prior',\n",
      "       'exported_notes_1', 'included', 'asreview_ranking'],\n",
      "      dtype='object')\n"
     ]
    }
   ],
   "source": [
    "import pandas as pd\n",
    "import json\n",
    "import random\n",
    "\n",
    "# Read in cvs\n",
    "abstratcs = 'asreview_dataset_relevant_Psychedelic Study.csv'\n",
    "\n",
    "df = pd.read_csv(abstratcs)\n",
    "\n",
    "print(df.columns)\n",
    "df.rename(columns={'abstract': 'text'}, inplace=True)\n",
    "relevant_cols = ['record_id',  'keywords', 'title', 'text']\n",
    "# replace NaN with empty string\n",
    "df.fillna('', inplace=True)\n",
    "\n",
    "# Create data json\n",
    "data = df[relevant_cols].to_dict(orient='records')\n",
    "nr_of_records = len(data)\n",
    "random_subset = random.sample(data, 100)\n",
    "# replace NaN with empty string\n",
    "\n",
    "output_file = '../prodigy/input/psychdelic_study_100_20240312.jsonl'\n",
    "# Write first 100 into a jsonl\n",
    "with open(output_file, 'w', encoding='utf-8') as f:\n",
    "    for d in random_subset:\n",
    "        f.write(json.dumps(d) + '\\n')"
   ]
  }
 ],
 "metadata": {
  "kernelspec": {
   "display_name": "Python 3",
   "language": "python",
   "name": "python3"
  },
  "language_info": {
   "codemirror_mode": {
    "name": "ipython",
    "version": 3
   },
   "file_extension": ".py",
   "mimetype": "text/x-python",
   "name": "python",
   "nbconvert_exporter": "python",
   "pygments_lexer": "ipython3",
   "version": "3.10.12"
  }
 },
 "nbformat": 4,
 "nbformat_minor": 2
}
