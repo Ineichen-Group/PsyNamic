{
 "cells": [
  {
   "cell_type": "code",
   "execution_count": 1,
   "metadata": {},
   "outputs": [],
   "source": [
    "from prodigy_data_reader import ProdigyDataCollector, ProdigyDataReader\n",
    "\n",
    "\n",
    "json_data_input = 'prodigy_inputs/prodigy_export_double_annotated_20240812.jsonl'\n",
    "json_data_annotated_text = 'prodigy_exports/prodigy_export_ben_582_double_annot_review_text_20240812_20241129_105310.jsonl'\n",
    "json_data_annotated_token = 'prodigy_exports/prodigy_export_ben_582_double_annot_review_token_20240812_20241203_193705.jsonl'\n",
    "json_data = 'prodigy_inputs/prodigy_export_double_annotated_20240812'\n",
    "prodigy_data_input = ProdigyDataReader(json_data_input)\n",
    "prodigy_data_text = ProdigyDataReader(json_data_annotated_text, annotator='Ben')\n",
    "prodigy_data_token = ProdigyDataReader(json_data_annotated_token, annotator='Ben')"
   ]
  },
  {
   "cell_type": "markdown",
   "metadata": {},
   "source": [
    "# Which datapoints were not shown during annoation process?"
   ]
  },
  {
   "cell_type": "code",
   "execution_count": 2,
   "metadata": {},
   "outputs": [
    {
     "name": "stdout",
     "output_type": "stream",
     "text": [
      "[1957, 5514, 4188, 1953, 6664, 9010, 7591, 7110, 7961, 4031, 4129, 809, 9083, 4524, 7264, 4265, 734, 2859, 148, 5635, 49, 2269, 3215, 8508, 1058, 3722, 687, 3866, 8977, 1736]\n",
      "30\n",
      "[5936, 7164]\n",
      "582\n",
      "580\n",
      "{5936, 7164}\n"
     ]
    }
   ],
   "source": [
    "# print difference of ids\n",
    "print(prodigy_data_input.rejected)\n",
    "print(prodigy_data_input.nr_rejected)\n",
    "print(prodigy_data_text.rejected)\n",
    "\n",
    "print(len(prodigy_data_input.df))\n",
    "print(len(prodigy_data_text))\n",
    "print(set(prodigy_data_input.ids) - set(prodigy_data_text.ids))"
   ]
  },
  {
   "cell_type": "code",
   "execution_count": 3,
   "metadata": {},
   "outputs": [
    {
     "name": "stdout",
     "output_type": "stream",
     "text": [
      "Can 'floating' predict treatment response to ketamine? Data from three randomized trials of individuals with treatment-resistant depression.^\\nKetamine has rapid-acting antidepressant properties but also potentially concerning transient dissociative side effects (SEs). Recent studies noted a positive correlation between treatment response to ketamine and general dissociative SEs, as well as \"floating\", a depersonalization SE (a subtype of the dissociative SEs). This analysis sought to determine whether floating mediates treatment response to ketamine. Data were pooled from three double-blind, crossover, placebo-controlled ketamine clinical trials across which 82 participants with treatment-resistant depression (TRD) (44 with bipolar depression and 38 with major depressive disorder) received placebo and ketamine (0.5 mg/kg) infusions. SEs were actively solicited in a standardized fashion before and after ketamine infusion. The hypothesis that a post-infusion experience of floating would mediate antidepressant response to ketamine was assessed at 230 min post-infusion and at Day 1. Montgomery-Asberg Depression Rating Scale (MADRS) total score was the dependent variable in a linear mixed effects model. Ketamine significantly decreased MADRS scores (p < 0.0001), but no relationship was detected between floating and MADRS score at either 230 min or Day 1 post-infusion. The hypothesized mediation effect of floating was also not detected at either 230 min or Day 1 post-infusion. Taken together, the findings do not support the hypothesis that ketamine's antidepressant effects are mediated by the dissociative depersonalization subtype SE of floating.\n",
      "['Ketamine']\n",
      "{'Age of Participants': ['Adult (≥18 years)'], 'Application Form': ['Intravenous'], 'Clinical Trial Phase': ['Unknown'], 'Condition': ['Psychiatric condition', 'Depression'], 'Data Collection': ['Unknown'], 'Data Type': ['Longitudinal short'], 'Number of Participants': ['81-100'], 'Outcomes': ['Mental Functions', 'Psychedelic experience'], 'Regimen': ['Single Dose'], 'Setting': ['Clinical'], 'Sex of Participants': ['Both sexes'], 'Study Conclusion': ['Mixed'], 'Study Control': ['Placebo'], 'Study Purpose': ['Efficacy endpoints', 'Mechanism of action'], 'Study Type': ['Other'], 'Substance Naivety': ['Unknown'], 'Substances': ['Ketamine']}\n"
     ]
    }
   ],
   "source": [
    "example_id = 120\n",
    "print(prodigy_data_text.get_text(example_id))\n",
    "print(prodigy_data_text.get_label(example_id, 'Substances'))\n",
    "print(prodigy_data_text.get_labels(example_id))"
   ]
  },
  {
   "cell_type": "markdown",
   "metadata": {},
   "source": [
    "# Mystery Application + Application Area"
   ]
  },
  {
   "cell_type": "code",
   "execution_count": 4,
   "metadata": {},
   "outputs": [
    {
     "name": "stdout",
     "output_type": "stream",
     "text": [
      "{'Application', 'Dosage', 'Application area'}\n",
      "[121, 216, 531, 652, 1811, 1886, 2112, 2332, 2490, 2816, 2820, 2864, 2956, 3597, 3818, 3977, 4035, 4252, 4424, 4658, 4728, 4888, 5025, 5041, 5370, 5525, 5930, 6828, 7466, 7621, 7719, 7942, 7970, 8414, 8746, 8798, 8847, 8987, 9007, 9055, 9119, 9171]\n"
     ]
    },
    {
     "data": {
      "text/plain": [
       "42"
      ]
     },
     "execution_count": 4,
     "metadata": {},
     "output_type": "execute_result"
    }
   ],
   "source": [
    "print(prodigy_data_token.ner_tags)\n",
    "ids = prodigy_data_token.get_ids_with_ner('Application')\n",
    "print(sorted(ids))\n",
    "len(ids)"
   ]
  },
  {
   "cell_type": "code",
   "execution_count": 5,
   "metadata": {},
   "outputs": [
    {
     "name": "stdout",
     "output_type": "stream",
     "text": [
      "{'Dosage', 'Application area'}\n"
     ]
    }
   ],
   "source": [
    "# # Rename the 'Applciation' tag to 'Application Area'\n",
    "for idx, line_dict in enumerate(prodigy_data_token._line_dicts):\n",
    "        if line_dict['record_id'] in ids:\n",
    "            for span in line_dict['spans']:\n",
    "                if 'label' in span.keys() and span['label'] == 'Application':\n",
    "                    span['label'] = 'Application area'\n",
    "            prodigy_data_token._line_dicts[idx] = line_dict      \n",
    "\n",
    "# write jsonl file\n",
    "new_data_token_file = 'prodigy_exports/prodigy_export_ben_582_double_annot_review_token_20240812_20241203_193705_token_corrected.jsonl'\n",
    "prodigy_data_token.write_jsonl(new_data_token_file)\n",
    "\n",
    "new_data_token = ProdigyDataReader(new_data_token_file, annotator='Ben')\n",
    "print(new_data_token.ner_tags)"
   ]
  }
 ],
 "metadata": {
  "kernelspec": {
   "display_name": "psynamic_env",
   "language": "python",
   "name": "python3"
  },
  "language_info": {
   "codemirror_mode": {
    "name": "ipython",
    "version": 3
   },
   "file_extension": ".py",
   "mimetype": "text/x-python",
   "name": "python",
   "nbconvert_exporter": "python",
   "pygments_lexer": "ipython3",
   "version": "3.12.3"
  }
 },
 "nbformat": 4,
 "nbformat_minor": 2
}
