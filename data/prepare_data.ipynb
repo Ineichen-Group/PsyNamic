{
 "cells": [
  {
   "cell_type": "code",
   "execution_count": 9,
   "metadata": {},
   "outputs": [],
   "source": [
    "import pandas as pd\n",
    "import json\n",
    "import random\n",
    "\n",
    "# Read in cvs\n",
    "raw_data = 'asreview_dataset_relevant_Psychedelic Study.csv'\n",
    "\n",
    "df = pd.read_csv(raw_data)\n",
    "\n"
   ]
  },
  {
   "cell_type": "markdown",
   "metadata": {},
   "source": [
    "Clean the data and get url from doi"
   ]
  },
  {
   "cell_type": "code",
   "execution_count": 18,
   "metadata": {},
   "outputs": [],
   "source": [
    "import requests\n",
    "def get_url(doi: str) -> str:\n",
    "    if not doi:\n",
    "        return ''\n",
    "    # PubMed API endpoint\n",
    "    pubmed_api_url = 'https://eutils.ncbi.nlm.nih.gov/entrez/eutils/esearch.fcgi'\n",
    "\n",
    "    # Parameters for the PubMed API request\n",
    "    params = {\n",
    "        'db': 'pubmed',\n",
    "        'term': doi,\n",
    "        'format': 'json'\n",
    "    }\n",
    "\n",
    "    try:\n",
    "        # Send HTTP GET request to PubMed API\n",
    "        response = requests.get(pubmed_api_url, params=params)\n",
    "        response.raise_for_status()  # Raise an exception for HTTP errors\n",
    "\n",
    "        # Parse JSON response\n",
    "        data = response.json()\n",
    "\n",
    "        if data['esearchresult']['idlist']:\n",
    "            # Extract PubMed ID (PMID) from response\n",
    "            pmid = data['esearchresult']['idlist'][0]\n",
    "\n",
    "            # Construct PubMed URL\n",
    "            pubmed_url = f'https://pubmed.ncbi.nlm.nih.gov/{pmid}/'\n",
    "\n",
    "            return pubmed_url\n",
    "        else:\n",
    "            return ''\n",
    "\n",
    "    except Exception as e:\n",
    "        # Handle any exceptions (e.g., network errors, JSON parsing errors)\n",
    "        print(f\"Error occurred: {e}\")\n",
    "        return ''\n"
   ]
  },
  {
   "cell_type": "code",
   "execution_count": 26,
   "metadata": {},
   "outputs": [
    {
     "name": "stderr",
     "output_type": "stream",
     "text": [
      "100%|██████████| 150/150 [01:21<00:00,  1.84it/s]\n"
     ]
    }
   ],
   "source": [
    "from tqdm import tqdm\n",
    "\n",
    "df.rename(columns={'abstract': 'text'}, inplace=True)\n",
    "# replace NaN with empty string\n",
    "df.fillna('', inplace=True)\n",
    "\n",
    "# select first 150 rows\n",
    "df_subsample = df.sample(150, random_state=1)\n",
    "tqdm.pandas()  # Use tqdm's progress_apply method\n",
    "df_subsample['pubmed_url'] = df_subsample['doi'].progress_apply(lambda x: get_url(x))\n",
    "df_subsample['html'] = \" \"\n",
    "# Write to csv\n",
    "df_subsample.to_csv('asreview_dataset_cleaned_150.csv', index=False)\n"
   ]
  },
  {
   "cell_type": "markdown",
   "metadata": {},
   "source": [
    "Sample 100 examples"
   ]
  },
  {
   "cell_type": "code",
   "execution_count": 27,
   "metadata": {},
   "outputs": [],
   "source": [
    "\n",
    "from datetime import datetime\n",
    "# Add additional column html\n",
    "# Create data json\n",
    "cleaned_data = 'asreview_dataset_cleaned_150.csv'\n",
    "df = pd.read_csv(cleaned_data)\n",
    "# fill nan with empty string\n",
    "df.fillna('', inplace=True)\n",
    "# remove those without pubmed_url\n",
    "df = df[df['pubmed_url'] != '']\n",
    "n = 100\n",
    "relevant_cols = ['record_id',  'keywords', 'title', 'text', 'html', 'doi', 'pubmed_url', 'secondary_title']\n",
    "# remove rows without doi, ''\n",
    "\n",
    "data = df[relevant_cols].to_dict(orient='records')\n",
    "nr_of_records = len(data)\n",
    "random_subset = random.sample(data, n)\n",
    "# replace NaN with empty string\n",
    "current_date = datetime.now().strftime('%Y%m%d')\n",
    "output_file = f'../prodigy/input/psychdelic_study_{n}_{current_date}.jsonl'\n",
    "# Write first 100 into a jsonl\n",
    "with open(output_file, 'w', encoding='utf-8') as f:\n",
    "    for d in random_subset:\n",
    "        f.write(json.dumps(d) + '\\n')"
   ]
  }
 ],
 "metadata": {
  "kernelspec": {
   "display_name": "Python 3",
   "language": "python",
   "name": "python3"
  },
  "language_info": {
   "codemirror_mode": {
    "name": "ipython",
    "version": 3
   },
   "file_extension": ".py",
   "mimetype": "text/x-python",
   "name": "python",
   "nbconvert_exporter": "python",
   "pygments_lexer": "ipython3",
   "version": "3.10.12"
  }
 },
 "nbformat": 4,
 "nbformat_minor": 2
}
