{
 "cells": [
  {
   "cell_type": "code",
   "execution_count": 4,
   "metadata": {},
   "outputs": [
    {
     "name": "stdout",
     "output_type": "stream",
     "text": [
      "Index(['record_id', 'type_of_reference', 'name_of_database', 'number',\n",
      "       'keywords', 'language', 'notes', 'year', 'start_page', 'short_title',\n",
      "       'secondary_title', 'title', 'url', 'volume', 'id', 'type_of_work',\n",
      "       'issn', 'abstract', 'doi', 'accession_number', 'date',\n",
      "       'database_provider', 'secondary_authors', 'place_published',\n",
      "       'publisher', 'tertiary_title', 'edition', 'custom1', 'alternate_title1',\n",
      "       'author_address', 'authors', 'custom2', 'custom6', 'custom5', 'note',\n",
      "       'custom7', 'original_publication', 'custom3', 'asreview_prior',\n",
      "       'exported_notes_1', 'included', 'asreview_ranking'],\n",
      "      dtype='object')\n",
      "{'record_id': 6152, 'keywords': \"['Depression', 'Ketamine', 'Midazolam', 'Recurrence', 'Suicide', 'Suicide, Attempted']\", 'title': 'Ketamine Versus Midazolam for Recurrence of Suicidality in Adolescents', 'abstract': 'Youth patients (ages 12‐18) who have recent suicidality (defined as suicidal ideation or behavior), and who are enrolled or expected to be enrolled in an intensive outpatient program (IOP) will be recruited for participation in the study. Upon informed consent/assent, baseline data will be collected regarding mood symptoms, suicidal ideation and behavior, associated comorbidities, and treatment history. Youth participants will be randomized to ketamine or midazolam, which will be provided twice weekly for two weeks. Participants will then have follow‐up assessments visits through week 12 to continue to monitor outcomes. Participants may be recruited directly from the IOP or from the ED or inpatient psychiatric unit, provided they have undergone evaluation and are confirmed to begin IOP treatment. The baseline visit and first infusion must be +/‐ 10 days of IOP enrollment. Enrollment of 264 subjects is expected to take place over a period of approximately 36 months. Enrolled participants will be involved in the study for approximately 14 weeks (screening plus 12 weeks of study follow‐up visits). Visits include a Screening Visit, a Baseline, 4 Study Intervention Visits, and 10 Follow‐Up Visits. Multiple streams of outcome measures will be utilized for this protocol, including self‐report measures, research assessor‐completed measures, clinic level measures, and behavioral measures. Aim 1. Evaluate reduction in frequency of suicidal events associated with two‐week twice‐weekly course of ketamine treatment versus midazolam. Aim 2. Evaluate reduction in implicit suicidal cognition with ketamine. Aim 3. Evaluate reduction in depressive symptoms and suicidality with ketamine.'}\n"
     ]
    }
   ],
   "source": [
    "import pandas as pd\n",
    "import json\n",
    "\n",
    "# Read in cvs\n",
    "abstratcs = 'data/asreview_dataset_relevant_Psychedelic Study.csv'\n",
    "\n",
    "df = pd.read_csv(abstratcs)\n",
    "\n",
    "# Print column names\n",
    "print(df.columns)\n",
    "\n",
    "relevant_cols = ['record_id',  'keywords', 'title', 'abstract']\n",
    "\n",
    "# Create data json\n",
    "data = df[relevant_cols].to_dict(orient='records')\n",
    "print(data[0])\n",
    "\n",
    "output_file = 'prodigy/input/psychdelic_study_50_20240312.jsonl'\n",
    "# Write first 50 into a jsonl\n",
    "with open(output_file, 'w', encoding='utf-8') as f:\n",
    "    for d in data[:50]:\n",
    "        f.write(json.dumps(d) + '\\n')"
   ]
  }
 ],
 "metadata": {
  "kernelspec": {
   "display_name": "Python 3",
   "language": "python",
   "name": "python3"
  },
  "language_info": {
   "codemirror_mode": {
    "name": "ipython",
    "version": 3
   },
   "file_extension": ".py",
   "mimetype": "text/x-python",
   "name": "python",
   "nbconvert_exporter": "python",
   "pygments_lexer": "ipython3",
   "version": "3.10.12"
  }
 },
 "nbformat": 4,
 "nbformat_minor": 2
}
